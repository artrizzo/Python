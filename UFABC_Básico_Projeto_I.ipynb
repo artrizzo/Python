{
  "nbformat": 4,
  "nbformat_minor": 0,
  "metadata": {
    "colab": {
      "provenance": [],
      "authorship_tag": "ABX9TyN2mIm9Y6PVS9WKKbWGHDtU",
      "include_colab_link": true
    },
    "kernelspec": {
      "name": "python3",
      "display_name": "Python 3"
    },
    "language_info": {
      "name": "python"
    }
  },
  "cells": [
    {
      "cell_type": "markdown",
      "metadata": {
        "id": "view-in-github",
        "colab_type": "text"
      },
      "source": [
        "<a href=\"https://colab.research.google.com/github/artrizzo/Python/blob/main/UFABC_B%C3%A1sico_Projeto_I.ipynb\" target=\"_parent\"><img src=\"https://colab.research.google.com/assets/colab-badge.svg\" alt=\"Open In Colab\"/></a>"
      ]
    },
    {
      "cell_type": "code",
      "metadata": {
        "id": "nyCti9QrKFLN"
      },
      "source": [
        "import pandas as pd\n",
        "import numpy as np\n",
        "import matplotlib.pyplot as plt\n",
        "from tqdm.notebook import tqdm\n",
        "import seaborn as sns"
      ],
      "execution_count": null,
      "outputs": []
    },
    {
      "cell_type": "code",
      "source": [
        "cereais = pd.read_csv(\"https://drive.google.com/u/3/uc?id=1Fy6v6fUcHyiblcK9CHrx_lzp7aJVDWZU&export=download\", sep=\";\")"
      ],
      "metadata": {
        "id": "KKkqkuCw9FJF"
      },
      "execution_count": null,
      "outputs": []
    },
    {
      "cell_type": "code",
      "source": [
        "cereais"
      ],
      "metadata": {
        "id": "0aNBcd9R9Oya"
      },
      "execution_count": null,
      "outputs": []
    },
    {
      "cell_type": "markdown",
      "source": [
        "#Reta de Regressão"
      ],
      "metadata": {
        "id": "B0ohAB6zf3zw"
      }
    },
    {
      "cell_type": "markdown",
      "source": [
        "A reta de regressão é um método de visualização que torna mais fácil qu entender tanto o ponto desejado na regressão linear quanto qualquer outro ponto.\n",
        "Para montar o gráfico:"
      ],
      "metadata": {
        "id": "OzQdjRhJf8ae"
      }
    },
    {
      "cell_type": "code",
      "source": [
        "cereais = pd.read_csv(\"https://drive.google.com/u/3/uc?id=1Fy6v6fUcHyiblcK9CHrx_lzp7aJVDWZU&export=download\", sep=\";\")\n",
        "\n",
        "plt.plot(cereais['rating'],cereais['fiber'],'.')\n",
        "\n",
        "x = np.arange(0,2)\n",
        "y = a*x+b\n",
        "plt.plot(x,y,'p')"
      ],
      "metadata": {
        "colab": {
          "base_uri": "https://localhost:8080/",
          "height": 283
        },
        "id": "xYx-TA_Agcso",
        "outputId": "894146ce-8ff4-43df-c6e6-80b441e0c005"
      },
      "execution_count": null,
      "outputs": [
        {
          "output_type": "execute_result",
          "data": {
            "text/plain": [
              "[<matplotlib.lines.Line2D at 0x7fa72715df50>]"
            ]
          },
          "metadata": {},
          "execution_count": 49
        },
        {
          "output_type": "display_data",
          "data": {
            "image/png": "[encoded data removed]",
            "text/plain": [
              "<Figure size 432x288 with 1 Axes>"
            ]
          },
          "metadata": {
            "needs_background": "light"
          }
        }
      ]
    },
    {
      "cell_type": "markdown",
      "source": [
        "#Coeficiente de Correlação"
      ],
      "metadata": {
        "id": "smIJPDfw45g7"
      }
    },
    {
      "cell_type": "markdown",
      "source": [
        "O Coeficiente de correlação determina basicamente o entrosamento entre duas variáveis, ou seja, o quanto uma variável pode influenciar negativa ou positivamente em outra.\n",
        "Por exemplo, podemos tentar descobrir se há uma correlação entre qualquer uma das colunas de calories até cups com sua pontuação (rating):"
      ],
      "metadata": {
        "id": "LT8tbRpjwxpm"
      }
    },
    {
      "cell_type": "code",
      "source": [
        "cereais['sodium'].corr(cereais['rating'])"
      ],
      "metadata": {
        "colab": {
          "base_uri": "https://localhost:8080/"
        },
        "id": "kNxShtIGx6S1",
        "outputId": "f24ab8d3-96dd-48bb-c695-c8be257e73b1"
      },
      "execution_count": null,
      "outputs": [
        {
          "output_type": "execute_result",
          "data": {
            "text/plain": [
              "-0.40129520449484846"
            ]
          },
          "metadata": {},
          "execution_count": 7
        }
      ]
    },
    {
      "cell_type": "markdown",
      "source": [
        "No caso acima, tivemos uma correlação negativa entre duas variáveis, o que significa que, enquanto uma variável está subindo, a outra está descendo. A correlação serve justamente para mostrar que, neste exemplo,quando a taxa de sódio do cereal é alta, o rating será baixo (obviamente não é para todos os casos da tabela, mas sim como uma média negativa) e essa afirmação se torna mais concreta quanto mais próximo de -1 for o resultado."
      ],
      "metadata": {
        "id": "vY21ndmszVGd"
      }
    },
    {
      "cell_type": "markdown",
      "source": [
        "Tendo em mente que a correlação tem um limíte de resposta de -1 até 1, quanto mais próximo de 1 for a correlação, significa que as duas variáveis estudadas se movem juntas (e sua relação é mais forte quanto mais próxima de 1):"
      ],
      "metadata": {
        "id": "0u0BOU1G0yMd"
      }
    },
    {
      "cell_type": "code",
      "source": [
        "cereais['fiber'].corr(cereais['rating'])"
      ],
      "metadata": {
        "colab": {
          "base_uri": "https://localhost:8080/"
        },
        "id": "jHraAsnT2K3c",
        "outputId": "de20fd7a-970b-4328-ae12-b0a6c9575ebe"
      },
      "execution_count": null,
      "outputs": [
        {
          "output_type": "execute_result",
          "data": {
            "text/plain": [
              "0.5841604199515835"
            ]
          },
          "metadata": {},
          "execution_count": 34
        }
      ]
    },
    {
      "cell_type": "markdown",
      "source": [
        "Neste segundo caso, percebemos que, em média, quanto maior for o valor da proteína, maior o rating do cereal."
      ],
      "metadata": {
        "id": "Ql8JmE292yKi"
      }
    },
    {
      "cell_type": "markdown",
      "source": [
        "A título de exemplo, quanto mais perto de 0 for o coeficiente de correlação, menor será a influencia que uma variável tem sobre a outra, por exemplo, a relação entre a quantidade de carboidrato e o rating (avaliação) do cereal:"
      ],
      "metadata": {
        "id": "TWvGuir33f2i"
      }
    },
    {
      "cell_type": "code",
      "source": [
        "cereais['carbo'].corr(cereais['rating'])"
      ],
      "metadata": {
        "colab": {
          "base_uri": "https://localhost:8080/"
        },
        "id": "b0B8ATJy314x",
        "outputId": "8b2683b3-ac73-48ba-c7af-f21e730b2f45"
      },
      "execution_count": null,
      "outputs": [
        {
          "output_type": "execute_result",
          "data": {
            "text/plain": [
              "0.05205466123376459"
            ]
          },
          "metadata": {},
          "execution_count": 6
        }
      ]
    },
    {
      "cell_type": "markdown",
      "source": [
        "#Regressão Linear"
      ],
      "metadata": {
        "id": "eugDCkcN5Nh6"
      }
    },
    {
      "cell_type": "markdown",
      "source": [
        "A partir dos pares ordenados que foram usados de exemplo na correlação, podemos gráficos que tornam melhor a visualização das respostas das correlações:"
      ],
      "metadata": {
        "id": "iz58v5il5t5m"
      }
    },
    {
      "cell_type": "code",
      "source": [
        "#no exemplo 1:\n",
        "plt.plot(cereais['sodium'],cereais['rating'],'.')"
      ],
      "metadata": {
        "colab": {
          "base_uri": "https://localhost:8080/",
          "height": 282
        },
        "id": "5Narheig6sD2",
        "outputId": "68811406-6fc9-4198-96b2-f986b69e84f1"
      },
      "execution_count": null,
      "outputs": [
        {
          "output_type": "execute_result",
          "data": {
            "text/plain": [
              "[<matplotlib.lines.Line2D at 0x7fa7279eadd0>]"
            ]
          },
          "metadata": {},
          "execution_count": 28
        },
        {
          "output_type": "display_data",
          "data": {
            "image/png": "[encoded data removed]",
            "text/plain": [
              "<Figure size 432x288 with 1 Axes>"
            ]
          },
          "metadata": {
            "needs_background": "light"
          }
        }
      ]
    },
    {
      "cell_type": "markdown",
      "source": [
        "Neste primeiro caso, podemos ver que na há muita correlação entre o sódio dos cereais e a sua pontuação (rating)."
      ],
      "metadata": {
        "id": "Lx5G8y1h7W8f"
      }
    },
    {
      "cell_type": "code",
      "source": [
        "#no exemplo 2:\n",
        "plt.plot(cereais['rating'],cereais['fiber'],'.')"
      ],
      "metadata": {
        "colab": {
          "base_uri": "https://localhost:8080/",
          "height": 282
        },
        "id": "8SpoYfO37kn_",
        "outputId": "bb3d13c6-cd8d-420c-d8b7-a8a61f145b4f"
      },
      "execution_count": null,
      "outputs": [
        {
          "output_type": "execute_result",
          "data": {
            "text/plain": [
              "[<matplotlib.lines.Line2D at 0x7fa727864490>]"
            ]
          },
          "metadata": {},
          "execution_count": 36
        },
        {
          "output_type": "display_data",
          "data": {
            "image/png": "[encoded data removed]",
            "text/plain": [
              "<Figure size 432x288 with 1 Axes>"
            ]
          },
          "metadata": {
            "needs_background": "light"
          }
        }
      ]
    },
    {
      "cell_type": "markdown",
      "source": [
        "no exemplo acima, já podemos perceber que, em média, quanto maior é o rating, maior é a taxa de fibra."
      ],
      "metadata": {
        "id": "xbOlwFW58EBp"
      }
    },
    {
      "cell_type": "markdown",
      "source": [
        "A reta de regressão linear é um método para poder tentar prever um valor em y que corresponderá um valor em x. Neste caso, tendo a variável rating em x e fiber em y, qual seria o valor de um cereal que correspondesse a um valor 5 de fibra ?\n",
        "Para isso usamos a regressão linear."
      ],
      "metadata": {
        "id": "EQ7q3LZB8SUS"
      }
    },
    {
      "cell_type": "code",
      "source": [
        "#1 passo: calcular os valores de a e b da fórmula de 1°grau que resulta em uma reta:\n",
        "(a,b) = np.polyfit(x=cereais['fiber'], y=cereais['rating'], deg = 1)\n",
        "print(a,b)"
      ],
      "metadata": {
        "colab": {
          "base_uri": "https://localhost:8080/"
        },
        "id": "k4Ivx9SKZ7-M",
        "outputId": "55e6b06b-69b7-4740-e39e-ef0e9b09409d"
      },
      "execution_count": null,
      "outputs": [
        {
          "output_type": "stream",
          "name": "stdout",
          "text": [
            "3.4429781662958496 35.25659482915296\n"
          ]
        }
      ]
    },
    {
      "cell_type": "code",
      "source": [
        "#2 passo: tendo os valores de a e b, será necessário somente trocar as incógnitas da função do 1°grau por estes valores:\n",
        "valor_de_y = a*5+b\n",
        "print(valor_de_y)"
      ],
      "metadata": {
        "colab": {
          "base_uri": "https://localhost:8080/"
        },
        "id": "VhCRaBOxbiLw",
        "outputId": "54b24a49-6ef7-4fdb-fbc6-769680ff4f4f"
      },
      "execution_count": null,
      "outputs": [
        {
          "output_type": "stream",
          "name": "stdout",
          "text": [
            "52.47148566063221\n"
          ]
        }
      ]
    }
  ]
}