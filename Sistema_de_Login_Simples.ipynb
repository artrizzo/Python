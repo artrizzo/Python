{
  "nbformat": 4,
  "nbformat_minor": 0,
  "metadata": {
    "colab": {
      "provenance": [],
      "authorship_tag": "ABX9TyOrSveJsP2HH60MfTPlZHKE",
      "include_colab_link": true
    },
    "kernelspec": {
      "name": "python3",
      "display_name": "Python 3"
    },
    "language_info": {
      "name": "python"
    }
  },
  "cells": [
    {
      "cell_type": "markdown",
      "metadata": {
        "id": "view-in-github",
        "colab_type": "text"
      },
      "source": [
        "<a href=\"https://colab.research.google.com/github/artrizzo/Python/blob/main/Sistema_de_Login_Simples.ipynb\" target=\"_parent\"><img src=\"https://colab.research.google.com/assets/colab-badge.svg\" alt=\"Open In Colab\"/></a>"
      ]
    },
    {
      "cell_type": "code",
      "source": [
        "#Necessário executar este programa em um API que consiga rodar o biblioteca PySimpleGUI"
      ],
      "metadata": {
        "id": "zb9YiT8g7-NH"
      },
      "execution_count": 1,
      "outputs": []
    },
    {
      "cell_type": "code",
      "execution_count": 17,
      "metadata": {
        "id": "I74A6REc5VOa",
        "colab": {
          "base_uri": "https://localhost:8080/"
        },
        "outputId": "56f19356-815f-4112-c30a-32a1c9169960"
      },
      "outputs": [
        {
          "output_type": "stream",
          "name": "stdout",
          "text": [
            "Looking in indexes: https://pypi.org/simple, https://us-python.pkg.dev/colab-wheels/public/simple/\n",
            "Requirement already satisfied: PySimpleGUI in /usr/local/lib/python3.10/dist-packages (4.60.4)\n"
          ]
        }
      ],
      "source": [
        "#import PySimpleGUI as sg\n",
        "!pip install PySimpleGUI"
      ]
    },
    {
      "cell_type": "markdown",
      "source": [
        "#Versão 1 - Só vai funcionar nd VS Code"
      ],
      "metadata": {
        "id": "SzmasOvmaIgc"
      }
    },
    {
      "cell_type": "code",
      "source": [
        "import PySimpleGUI as sg"
      ],
      "metadata": {
        "id": "J3ZVh9eiX5vU"
      },
      "execution_count": 8,
      "outputs": []
    },
    {
      "cell_type": "code",
      "source": [
        "#no PySimpleGUI tudo é baseado em listas porque cada lista é uma linha do login.\n",
        "layout = [\n",
        "    [sg.Text('Usuário')],\n",
        "    [sg.Input(key='usuário')], #key é um identificador que extrai a informação da linha usuário\n",
        "    [sg.Text('Senha')],\n",
        "    [sg.Input(key='senha')],\n",
        "    [sg.Button('login')],\n",
        "    [sg.Text('', key='mensagem')]\n",
        "]"
      ],
      "metadata": {
        "id": "nkRTC7zM7Eke"
      },
      "execution_count": 9,
      "outputs": []
    },
    {
      "cell_type": "code",
      "source": [
        "window = sg.Window('Login', layout = layout)"
      ],
      "metadata": {
        "id": "_wGawcpP9j1c"
      },
      "execution_count": 10,
      "outputs": []
    },
    {
      "cell_type": "code",
      "source": [
        "while True:\n",
        "  event, values = window.read()\n",
        "  if event == sg.WIN_CLOSED:\n",
        "    break\n",
        "  elif event == 'login':\n",
        "    senha_correta = '123456'\n",
        "    usuario_correto = 'Arthur'\n",
        "    usuario = values['usuário']\n",
        "    senha = values['senha']\n",
        "    if senha == senha_correta and usuario == usuario_correto:\n",
        "      window['mensagem'].update ('Login feito com sucesso')\n",
        "    else:\n",
        "      window['mensagem'].update ('Senha ou usuário incorreto')"
      ],
      "metadata": {
        "id": "hobdJGWh-NFg"
      },
      "execution_count": null,
      "outputs": []
    }
  ]
}